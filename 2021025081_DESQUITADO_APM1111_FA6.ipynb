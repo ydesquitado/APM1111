{
  "nbformat": 4,
  "nbformat_minor": 0,
  "metadata": {
    "colab": {
      "provenance": []
    },
    "kernelspec": {
      "name": "python3",
      "display_name": "Python 3"
    },
    "language_info": {
      "name": "python"
    }
  },
  "cells": [
    {
      "cell_type": "markdown",
      "source": [
        "# **2021025081 DESQUITADO, YUICHI**\n",
        "# **APM1111 Statistical Theory Formative Assessment 6**\n",
        "\n"
      ],
      "metadata": {
        "id": "NNxMxFD0srNe"
      }
    },
    {
      "cell_type": "code",
      "source": [
        "import matplotlib.pyplot as plt\n",
        "import scipy.stats as stats\n",
        "import statistics\n",
        "from google.colab import drive\n",
        "drive.mount('/content/drive')"
      ],
      "metadata": {
        "colab": {
          "base_uri": "https://localhost:8080/"
        },
        "id": "DQbhl_KQtD2B",
        "outputId": "7d6cb6ab-3f37-4c79-a9ea-f63717e081a4"
      },
      "execution_count": 28,
      "outputs": [
        {
          "output_type": "stream",
          "name": "stdout",
          "text": [
            "Drive already mounted at /content/drive; to attempt to forcibly remount, call drive.mount(\"/content/drive\", force_remount=True).\n"
          ]
        }
      ]
    },
    {
      "cell_type": "code",
      "source": [
        "dataset = pd.read_csv(\"/content/drive/MyDrive/Colab Notebooks/Invisibility Cloak.csv\")\n",
        "dataset"
      ],
      "metadata": {
        "id": "7kqxz4L8sqxq",
        "colab": {
          "base_uri": "https://localhost:8080/",
          "height": 802
        },
        "outputId": "35982c0a-cce1-4db9-e45a-46a21f3be17b"
      },
      "execution_count": 23,
      "outputs": [
        {
          "output_type": "execute_result",
          "data": {
            "text/plain": [
              "    Participant  Cloak  Mischief\n",
              "0             1      0         3\n",
              "1             2      0         1\n",
              "2             3      0         5\n",
              "3             4      0         4\n",
              "4             5      0         6\n",
              "5             6      0         4\n",
              "6             7      0         6\n",
              "7             8      0         2\n",
              "8             9      0         0\n",
              "9            10      0         5\n",
              "10           11      0         4\n",
              "11           12      0         5\n",
              "12           13      1         4\n",
              "13           14      1         3\n",
              "14           15      1         6\n",
              "15           16      1         6\n",
              "16           17      1         8\n",
              "17           18      1         5\n",
              "18           19      1         5\n",
              "19           20      1         4\n",
              "20           21      1         2\n",
              "21           22      1         5\n",
              "22           23      1         7\n",
              "23           24      1         5"
            ],
            "text/html": [
              "\n",
              "  <div id=\"df-e58c33c7-7e4d-4c19-be8b-361b60d50231\" class=\"colab-df-container\">\n",
              "    <div>\n",
              "<style scoped>\n",
              "    .dataframe tbody tr th:only-of-type {\n",
              "        vertical-align: middle;\n",
              "    }\n",
              "\n",
              "    .dataframe tbody tr th {\n",
              "        vertical-align: top;\n",
              "    }\n",
              "\n",
              "    .dataframe thead th {\n",
              "        text-align: right;\n",
              "    }\n",
              "</style>\n",
              "<table border=\"1\" class=\"dataframe\">\n",
              "  <thead>\n",
              "    <tr style=\"text-align: right;\">\n",
              "      <th></th>\n",
              "      <th>Participant</th>\n",
              "      <th>Cloak</th>\n",
              "      <th>Mischief</th>\n",
              "    </tr>\n",
              "  </thead>\n",
              "  <tbody>\n",
              "    <tr>\n",
              "      <th>0</th>\n",
              "      <td>1</td>\n",
              "      <td>0</td>\n",
              "      <td>3</td>\n",
              "    </tr>\n",
              "    <tr>\n",
              "      <th>1</th>\n",
              "      <td>2</td>\n",
              "      <td>0</td>\n",
              "      <td>1</td>\n",
              "    </tr>\n",
              "    <tr>\n",
              "      <th>2</th>\n",
              "      <td>3</td>\n",
              "      <td>0</td>\n",
              "      <td>5</td>\n",
              "    </tr>\n",
              "    <tr>\n",
              "      <th>3</th>\n",
              "      <td>4</td>\n",
              "      <td>0</td>\n",
              "      <td>4</td>\n",
              "    </tr>\n",
              "    <tr>\n",
              "      <th>4</th>\n",
              "      <td>5</td>\n",
              "      <td>0</td>\n",
              "      <td>6</td>\n",
              "    </tr>\n",
              "    <tr>\n",
              "      <th>5</th>\n",
              "      <td>6</td>\n",
              "      <td>0</td>\n",
              "      <td>4</td>\n",
              "    </tr>\n",
              "    <tr>\n",
              "      <th>6</th>\n",
              "      <td>7</td>\n",
              "      <td>0</td>\n",
              "      <td>6</td>\n",
              "    </tr>\n",
              "    <tr>\n",
              "      <th>7</th>\n",
              "      <td>8</td>\n",
              "      <td>0</td>\n",
              "      <td>2</td>\n",
              "    </tr>\n",
              "    <tr>\n",
              "      <th>8</th>\n",
              "      <td>9</td>\n",
              "      <td>0</td>\n",
              "      <td>0</td>\n",
              "    </tr>\n",
              "    <tr>\n",
              "      <th>9</th>\n",
              "      <td>10</td>\n",
              "      <td>0</td>\n",
              "      <td>5</td>\n",
              "    </tr>\n",
              "    <tr>\n",
              "      <th>10</th>\n",
              "      <td>11</td>\n",
              "      <td>0</td>\n",
              "      <td>4</td>\n",
              "    </tr>\n",
              "    <tr>\n",
              "      <th>11</th>\n",
              "      <td>12</td>\n",
              "      <td>0</td>\n",
              "      <td>5</td>\n",
              "    </tr>\n",
              "    <tr>\n",
              "      <th>12</th>\n",
              "      <td>13</td>\n",
              "      <td>1</td>\n",
              "      <td>4</td>\n",
              "    </tr>\n",
              "    <tr>\n",
              "      <th>13</th>\n",
              "      <td>14</td>\n",
              "      <td>1</td>\n",
              "      <td>3</td>\n",
              "    </tr>\n",
              "    <tr>\n",
              "      <th>14</th>\n",
              "      <td>15</td>\n",
              "      <td>1</td>\n",
              "      <td>6</td>\n",
              "    </tr>\n",
              "    <tr>\n",
              "      <th>15</th>\n",
              "      <td>16</td>\n",
              "      <td>1</td>\n",
              "      <td>6</td>\n",
              "    </tr>\n",
              "    <tr>\n",
              "      <th>16</th>\n",
              "      <td>17</td>\n",
              "      <td>1</td>\n",
              "      <td>8</td>\n",
              "    </tr>\n",
              "    <tr>\n",
              "      <th>17</th>\n",
              "      <td>18</td>\n",
              "      <td>1</td>\n",
              "      <td>5</td>\n",
              "    </tr>\n",
              "    <tr>\n",
              "      <th>18</th>\n",
              "      <td>19</td>\n",
              "      <td>1</td>\n",
              "      <td>5</td>\n",
              "    </tr>\n",
              "    <tr>\n",
              "      <th>19</th>\n",
              "      <td>20</td>\n",
              "      <td>1</td>\n",
              "      <td>4</td>\n",
              "    </tr>\n",
              "    <tr>\n",
              "      <th>20</th>\n",
              "      <td>21</td>\n",
              "      <td>1</td>\n",
              "      <td>2</td>\n",
              "    </tr>\n",
              "    <tr>\n",
              "      <th>21</th>\n",
              "      <td>22</td>\n",
              "      <td>1</td>\n",
              "      <td>5</td>\n",
              "    </tr>\n",
              "    <tr>\n",
              "      <th>22</th>\n",
              "      <td>23</td>\n",
              "      <td>1</td>\n",
              "      <td>7</td>\n",
              "    </tr>\n",
              "    <tr>\n",
              "      <th>23</th>\n",
              "      <td>24</td>\n",
              "      <td>1</td>\n",
              "      <td>5</td>\n",
              "    </tr>\n",
              "  </tbody>\n",
              "</table>\n",
              "</div>\n",
              "    <div class=\"colab-df-buttons\">\n",
              "\n",
              "  <div class=\"colab-df-container\">\n",
              "    <button class=\"colab-df-convert\" onclick=\"convertToInteractive('df-e58c33c7-7e4d-4c19-be8b-361b60d50231')\"\n",
              "            title=\"Convert this dataframe to an interactive table.\"\n",
              "            style=\"display:none;\">\n",
              "\n",
              "  <svg xmlns=\"http://www.w3.org/2000/svg\" height=\"24px\" viewBox=\"0 -960 960 960\">\n",
              "    <path d=\"M120-120v-720h720v720H120Zm60-500h600v-160H180v160Zm220 220h160v-160H400v160Zm0 220h160v-160H400v160ZM180-400h160v-160H180v160Zm440 0h160v-160H620v160ZM180-180h160v-160H180v160Zm440 0h160v-160H620v160Z\"/>\n",
              "  </svg>\n",
              "    </button>\n",
              "\n",
              "  <style>\n",
              "    .colab-df-container {\n",
              "      display:flex;\n",
              "      gap: 12px;\n",
              "    }\n",
              "\n",
              "    .colab-df-convert {\n",
              "      background-color: #E8F0FE;\n",
              "      border: none;\n",
              "      border-radius: 50%;\n",
              "      cursor: pointer;\n",
              "      display: none;\n",
              "      fill: #1967D2;\n",
              "      height: 32px;\n",
              "      padding: 0 0 0 0;\n",
              "      width: 32px;\n",
              "    }\n",
              "\n",
              "    .colab-df-convert:hover {\n",
              "      background-color: #E2EBFA;\n",
              "      box-shadow: 0px 1px 2px rgba(60, 64, 67, 0.3), 0px 1px 3px 1px rgba(60, 64, 67, 0.15);\n",
              "      fill: #174EA6;\n",
              "    }\n",
              "\n",
              "    .colab-df-buttons div {\n",
              "      margin-bottom: 4px;\n",
              "    }\n",
              "\n",
              "    [theme=dark] .colab-df-convert {\n",
              "      background-color: #3B4455;\n",
              "      fill: #D2E3FC;\n",
              "    }\n",
              "\n",
              "    [theme=dark] .colab-df-convert:hover {\n",
              "      background-color: #434B5C;\n",
              "      box-shadow: 0px 1px 3px 1px rgba(0, 0, 0, 0.15);\n",
              "      filter: drop-shadow(0px 1px 2px rgba(0, 0, 0, 0.3));\n",
              "      fill: #FFFFFF;\n",
              "    }\n",
              "  </style>\n",
              "\n",
              "    <script>\n",
              "      const buttonEl =\n",
              "        document.querySelector('#df-e58c33c7-7e4d-4c19-be8b-361b60d50231 button.colab-df-convert');\n",
              "      buttonEl.style.display =\n",
              "        google.colab.kernel.accessAllowed ? 'block' : 'none';\n",
              "\n",
              "      async function convertToInteractive(key) {\n",
              "        const element = document.querySelector('#df-e58c33c7-7e4d-4c19-be8b-361b60d50231');\n",
              "        const dataTable =\n",
              "          await google.colab.kernel.invokeFunction('convertToInteractive',\n",
              "                                                    [key], {});\n",
              "        if (!dataTable) return;\n",
              "\n",
              "        const docLinkHtml = 'Like what you see? Visit the ' +\n",
              "          '<a target=\"_blank\" href=https://colab.research.google.com/notebooks/data_table.ipynb>data table notebook</a>'\n",
              "          + ' to learn more about interactive tables.';\n",
              "        element.innerHTML = '';\n",
              "        dataTable['output_type'] = 'display_data';\n",
              "        await google.colab.output.renderOutput(dataTable, element);\n",
              "        const docLink = document.createElement('div');\n",
              "        docLink.innerHTML = docLinkHtml;\n",
              "        element.appendChild(docLink);\n",
              "      }\n",
              "    </script>\n",
              "  </div>\n",
              "\n",
              "\n",
              "<div id=\"df-f784f2c4-1fea-48f2-8202-437e7ca9e959\">\n",
              "  <button class=\"colab-df-quickchart\" onclick=\"quickchart('df-f784f2c4-1fea-48f2-8202-437e7ca9e959')\"\n",
              "            title=\"Suggest charts\"\n",
              "            style=\"display:none;\">\n",
              "\n",
              "<svg xmlns=\"http://www.w3.org/2000/svg\" height=\"24px\"viewBox=\"0 0 24 24\"\n",
              "     width=\"24px\">\n",
              "    <g>\n",
              "        <path d=\"M19 3H5c-1.1 0-2 .9-2 2v14c0 1.1.9 2 2 2h14c1.1 0 2-.9 2-2V5c0-1.1-.9-2-2-2zM9 17H7v-7h2v7zm4 0h-2V7h2v10zm4 0h-2v-4h2v4z\"/>\n",
              "    </g>\n",
              "</svg>\n",
              "  </button>\n",
              "\n",
              "<style>\n",
              "  .colab-df-quickchart {\n",
              "      --bg-color: #E8F0FE;\n",
              "      --fill-color: #1967D2;\n",
              "      --hover-bg-color: #E2EBFA;\n",
              "      --hover-fill-color: #174EA6;\n",
              "      --disabled-fill-color: #AAA;\n",
              "      --disabled-bg-color: #DDD;\n",
              "  }\n",
              "\n",
              "  [theme=dark] .colab-df-quickchart {\n",
              "      --bg-color: #3B4455;\n",
              "      --fill-color: #D2E3FC;\n",
              "      --hover-bg-color: #434B5C;\n",
              "      --hover-fill-color: #FFFFFF;\n",
              "      --disabled-bg-color: #3B4455;\n",
              "      --disabled-fill-color: #666;\n",
              "  }\n",
              "\n",
              "  .colab-df-quickchart {\n",
              "    background-color: var(--bg-color);\n",
              "    border: none;\n",
              "    border-radius: 50%;\n",
              "    cursor: pointer;\n",
              "    display: none;\n",
              "    fill: var(--fill-color);\n",
              "    height: 32px;\n",
              "    padding: 0;\n",
              "    width: 32px;\n",
              "  }\n",
              "\n",
              "  .colab-df-quickchart:hover {\n",
              "    background-color: var(--hover-bg-color);\n",
              "    box-shadow: 0 1px 2px rgba(60, 64, 67, 0.3), 0 1px 3px 1px rgba(60, 64, 67, 0.15);\n",
              "    fill: var(--button-hover-fill-color);\n",
              "  }\n",
              "\n",
              "  .colab-df-quickchart-complete:disabled,\n",
              "  .colab-df-quickchart-complete:disabled:hover {\n",
              "    background-color: var(--disabled-bg-color);\n",
              "    fill: var(--disabled-fill-color);\n",
              "    box-shadow: none;\n",
              "  }\n",
              "\n",
              "  .colab-df-spinner {\n",
              "    border: 2px solid var(--fill-color);\n",
              "    border-color: transparent;\n",
              "    border-bottom-color: var(--fill-color);\n",
              "    animation:\n",
              "      spin 1s steps(1) infinite;\n",
              "  }\n",
              "\n",
              "  @keyframes spin {\n",
              "    0% {\n",
              "      border-color: transparent;\n",
              "      border-bottom-color: var(--fill-color);\n",
              "      border-left-color: var(--fill-color);\n",
              "    }\n",
              "    20% {\n",
              "      border-color: transparent;\n",
              "      border-left-color: var(--fill-color);\n",
              "      border-top-color: var(--fill-color);\n",
              "    }\n",
              "    30% {\n",
              "      border-color: transparent;\n",
              "      border-left-color: var(--fill-color);\n",
              "      border-top-color: var(--fill-color);\n",
              "      border-right-color: var(--fill-color);\n",
              "    }\n",
              "    40% {\n",
              "      border-color: transparent;\n",
              "      border-right-color: var(--fill-color);\n",
              "      border-top-color: var(--fill-color);\n",
              "    }\n",
              "    60% {\n",
              "      border-color: transparent;\n",
              "      border-right-color: var(--fill-color);\n",
              "    }\n",
              "    80% {\n",
              "      border-color: transparent;\n",
              "      border-right-color: var(--fill-color);\n",
              "      border-bottom-color: var(--fill-color);\n",
              "    }\n",
              "    90% {\n",
              "      border-color: transparent;\n",
              "      border-bottom-color: var(--fill-color);\n",
              "    }\n",
              "  }\n",
              "</style>\n",
              "\n",
              "  <script>\n",
              "    async function quickchart(key) {\n",
              "      const quickchartButtonEl =\n",
              "        document.querySelector('#' + key + ' button');\n",
              "      quickchartButtonEl.disabled = true;  // To prevent multiple clicks.\n",
              "      quickchartButtonEl.classList.add('colab-df-spinner');\n",
              "      try {\n",
              "        const charts = await google.colab.kernel.invokeFunction(\n",
              "            'suggestCharts', [key], {});\n",
              "      } catch (error) {\n",
              "        console.error('Error during call to suggestCharts:', error);\n",
              "      }\n",
              "      quickchartButtonEl.classList.remove('colab-df-spinner');\n",
              "      quickchartButtonEl.classList.add('colab-df-quickchart-complete');\n",
              "    }\n",
              "    (() => {\n",
              "      let quickchartButtonEl =\n",
              "        document.querySelector('#df-f784f2c4-1fea-48f2-8202-437e7ca9e959 button');\n",
              "      quickchartButtonEl.style.display =\n",
              "        google.colab.kernel.accessAllowed ? 'block' : 'none';\n",
              "    })();\n",
              "  </script>\n",
              "</div>\n",
              "    </div>\n",
              "  </div>\n"
            ]
          },
          "metadata": {},
          "execution_count": 23
        }
      ]
    },
    {
      "cell_type": "markdown",
      "source": [
        "# **Assumption 0: Setting Hypothesis and Alpha**\n",
        "\n",
        "$H_0$ = *The two unrelated group are equal, $\\mu_1 = \\mu_2$.*\n",
        "\n",
        "$H_A$ = *The two unrelated group are not equal, $\\mu_1 \\neq \\mu_2$.*\n",
        "\n",
        "As significance level is not dictated, we will be using $\\alpha = 0.05$."
      ],
      "metadata": {
        "id": "l2NYo8cYyb7o"
      }
    },
    {
      "cell_type": "markdown",
      "source": [
        "# **Assumption 1: Scale of Measurement**\n",
        "\n",
        "Obserrving the dataset, the scale of measurement used on \"Mischief\" is continuous."
      ],
      "metadata": {
        "id": "ZdL1wwKxvE8y"
      }
    },
    {
      "cell_type": "markdown",
      "source": [
        "# **Assumption 2: Categorical Groups**\n",
        "\n",
        "The said test have two groups under \"Cloak\", 0 for those no possession the cloak, while 1 for those given cloaks."
      ],
      "metadata": {
        "id": "0w_PaY55vLZY"
      }
    },
    {
      "cell_type": "markdown",
      "source": [
        "# **Assumption 3: Simple Random Sampling**\n",
        "\n",
        "The dataset includes 24 participants, 12 for each group and these are distinct people, so no person is involved in more than one group."
      ],
      "metadata": {
        "id": "jf0Y-eIGvSDC"
      }
    },
    {
      "cell_type": "markdown",
      "source": [
        "# **Assumption 4: Outliers**\n",
        "\n",
        "For this assumption, we will be using a boxplot to identify potential outliers."
      ],
      "metadata": {
        "id": "KDzTMczkvSuK"
      }
    },
    {
      "cell_type": "code",
      "source": [
        "group0 = dataset[dataset['Cloak'] == 0]['Mischief']\n",
        "group1 = dataset[dataset['Cloak'] == 1]['Mischief']\n",
        "\n",
        "outlierData = [group0, group1]\n",
        "\n",
        "fig = plt.figure(figsize = (10, 5))\n",
        "ax = fig.add_axes([0, 0, 1, 1])\n",
        "bp = ax.boxplot(outlierData)\n",
        "plt.show"
      ],
      "metadata": {
        "colab": {
          "base_uri": "https://localhost:8080/",
          "height": 577
        },
        "id": "5UjkB7YaUqT1",
        "outputId": "3be3f1f3-070b-40b1-8e34-95199800aa0c"
      },
      "execution_count": 24,
      "outputs": [
        {
          "output_type": "execute_result",
          "data": {
            "text/plain": [
              "<function matplotlib.pyplot.show(close=None, block=None)>"
            ]
          },
          "metadata": {},
          "execution_count": 24
        },
        {
          "output_type": "display_data",
          "data": {
            "text/plain": [
              "<Figure size 1000x500 with 1 Axes>"
            ],
            "image/png": "[encoded data removed]"
          },
          "metadata": {}
        }
      ]
    },
    {
      "cell_type": "markdown",
      "source": [
        "According to the boxplot, no outlier is identified. No editing must be made."
      ],
      "metadata": {
        "id": "a-3S_-43_4j2"
      }
    },
    {
      "cell_type": "markdown",
      "source": [
        "# **Assumption 5: Normality**\n",
        "\n",
        "For the normality, a Shapiro-Wilk Test will be used."
      ],
      "metadata": {
        "id": "78uKihLUvgaG"
      }
    },
    {
      "cell_type": "code",
      "source": [
        "g0shapiro, g0shapiroP = stats.shapiro(group0)\n",
        "g1shapiro, g1shapiroP = stats.shapiro(group1)\n",
        "\n",
        "print(\"The Shapiro-Wilk Test P-Value for Group 0 is =\", g0shapiroP, \", while for Group 1 is =\", g1shapiroP,\".\")"
      ],
      "metadata": {
        "colab": {
          "base_uri": "https://localhost:8080/"
        },
        "id": "Auhrr5NQvUVZ",
        "outputId": "bf164b45-a75c-49b1-c765-74c5706c459a"
      },
      "execution_count": 25,
      "outputs": [
        {
          "output_type": "stream",
          "name": "stdout",
          "text": [
            "The Shapiro-Wilk Test P-Value for Group 0 is = 0.23144638538360596 , while for Group 1 is = 0.9361882209777832 .\n"
          ]
        }
      ]
    },
    {
      "cell_type": "markdown",
      "source": [
        "Being significantly higher than the $\\alpha$ = 0.05 (Group 0 = 0.231, Group 1 = 0.936), we fail to reject the null hypothesis, meaning we have insufficient proof that the said data does not come from a normal distribution."
      ],
      "metadata": {
        "id": "0Tlq-zjSXoKs"
      }
    },
    {
      "cell_type": "markdown",
      "source": [
        "# **Assumption 6: Homogeneity of Variance**\n",
        "\n",
        "We will be using a Levene's test for this assumption."
      ],
      "metadata": {
        "id": "tzMIjmUHYAR0"
      }
    },
    {
      "cell_type": "code",
      "source": [
        "homoVarStats, homoVarP = stats.levene(dataset[dataset['Cloak'] == 0]['Mischief'], dataset[dataset['Cloak'] == 1]['Mischief'])\n",
        "\n",
        "print(\"The P-Value of the Levene test is =\", homoVarP)"
      ],
      "metadata": {
        "colab": {
          "base_uri": "https://localhost:8080/"
        },
        "id": "Vygt6IuqBEv-",
        "outputId": "15c21a65-e7b6-4ef9-a3d3-1909b34d1227"
      },
      "execution_count": 26,
      "outputs": [
        {
          "output_type": "stream",
          "name": "stdout",
          "text": [
            "The P-Value of the Levene test is = 0.6086825890641905\n"
          ]
        }
      ]
    },
    {
      "cell_type": "markdown",
      "source": [
        "Having be higher than the $\\alpha = 0.05$, the said groups are not homogeneous with each other in variance."
      ],
      "metadata": {
        "id": "vizfTh5wCTPC"
      }
    },
    {
      "cell_type": "markdown",
      "source": [
        "# **Post-Assumption: T-Test**\n",
        "\n",
        "After the five assumptions, we now perform independent T-Test to indicate the significance of the two groups and two confirm nor reject the null hypothesis."
      ],
      "metadata": {
        "id": "3LCJWMYLBEh3"
      }
    },
    {
      "cell_type": "code",
      "source": [
        "tTestStats, tTestP = stats.ttest_ind(dataset[dataset['Cloak'] == 0]['Mischief'], dataset[dataset['Cloak'] == 1]['Mischief'])\n",
        "print(\"The P Value of the Independent T Test is =\", tTestP)\n",
        "\n",
        "a = 0.05\n",
        "\n",
        "if tTestP > a:\n",
        "  print(\"The P Value is higher than the Alpha = 0.05, therefore reject the null hypothesis.\")\n",
        "  print(\"Alternate hypothesis: The two unrelated group are not equal, therefore unsignificantly related to each other.\")\n",
        "else:\n",
        "  print(\"The P Value is less than or equal to the Alpha = 0.05, therefore confirm the null hypothesis.\")\n",
        "  print(\"Null hypothesis: The two unrelated group are equal, therefore significant to each other.\")"
      ],
      "metadata": {
        "colab": {
          "base_uri": "https://localhost:8080/"
        },
        "id": "4xqRgsrVCsCL",
        "outputId": "4898df23-986b-4728-bba4-099d8e48bbd7"
      },
      "execution_count": 27,
      "outputs": [
        {
          "output_type": "stream",
          "name": "stdout",
          "text": [
            "The P Value of the Independent T Test is = 0.10068634487481125\n",
            "The P Value is higher than the Alpha = 0.05, therefore reject the null hypothesis.\n",
            "Alternate hypothesis: The two unrelated group are not equal, therefore unsignificantly related to each other.\n"
          ]
        }
      ]
    },
    {
      "cell_type": "markdown",
      "source": [
        "# **Presenting the Results**\n",
        "\n",
        "In a hypothetical world where Invisibility Cloaks exists, a group of psychologists mounted hidden cameras and tested 24 individuals in a closed community, half in possession of cloaks (cloaks = 1), while the other half are not (cloak = 0). They were sworn to secrecy of not revealing the existence of such cloaks. Within a span of week, they were monitored to count mischievous acts done by these selected individuals.\n",
        "\n",
        "The findings shows that those with cloaks are far more frequent to do mischievous acts than those without the cloaks, yet they are not significantly related to one another as distinct groups due to having a higher P value than the significance value Alpha (T Test P Values = 0.10 vs. Alpha = 0.05)."
      ],
      "metadata": {
        "id": "FhC-Cg0pE89i"
      }
    }
  ]
}