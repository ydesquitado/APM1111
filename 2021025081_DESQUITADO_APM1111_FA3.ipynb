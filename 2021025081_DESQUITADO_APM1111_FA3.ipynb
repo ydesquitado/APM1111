{
  "nbformat": 4,
  "nbformat_minor": 0,
  "metadata": {
    "colab": {
      "provenance": [],
      "authorship_tag": "ABX9TyNINmp90wuR8tw67eTNzFor",
      "include_colab_link": true
    },
    "kernelspec": {
      "name": "python3",
      "display_name": "Python 3"
    },
    "language_info": {
      "name": "python"
    }
  },
  "cells": [
    {
      "cell_type": "markdown",
      "metadata": {
        "id": "view-in-github",
        "colab_type": "text"
      },
      "source": [
        "<a href=\"https://colab.research.google.com/github/ydesquitado/APM1111/blob/main/2021025081_DESQUITADO_APM1111_FA3.ipynb\" target=\"_parent\"><img src=\"https://colab.research.google.com/assets/colab-badge.svg\" alt=\"Open In Colab\"/></a>"
      ]
    },
    {
      "cell_type": "markdown",
      "source": [
        "Link for github: https://github.com/ydesquitado/APM1111/blob/main/2021025081_DESQUITADO_APM1111_FA3.ipynb"
      ],
      "metadata": {
        "id": "8YcTRgDMb_tG"
      }
    },
    {
      "cell_type": "code",
      "execution_count": null,
      "metadata": {
        "id": "Lm_EoWFkDdSc"
      },
      "outputs": [],
      "source": [
        "import math\n",
        "import numpy\n",
        "from scipy import stats\n",
        "from scipy.stats import skew\n",
        "from scipy.stats import kurtosis\n",
        "from tabulate import tabulate\n",
        "import pandas as pd"
      ]
    },
    {
      "cell_type": "code",
      "source": [
        "def isfloat(x):\n",
        "    try:\n",
        "        float(x)\n",
        "        isFloat = True\n",
        "    except:\n",
        "        isFloat = False\n",
        "    return isFloat\n",
        "\n",
        "def quartile (data, i, q):\n",
        "    qtl = ((i * (n + 1) / 4))\n",
        "\n",
        "    rDown = math.floor(qtl)\n",
        "    rUp = math.ceil(qtl)\n",
        "    dcml = qtl - rDown\n",
        "\n",
        "    print(\"Original =\", qtl, \"\\nRound down =\", math.floor(qtl), \"\\nRound up =\", math.ceil(qtl), \"\\nDcml =\", dcml)\n",
        "\n",
        "    if isfloat(qtl) == True:\n",
        "        qtlValue = data[rDown - 1] + ((dcml) * (rUp - rDown))\n",
        "    else:\n",
        "        qtlValue = data[qtl - 1]\n",
        "    return qtlValue\n",
        "\n",
        "def decile (data, i, q):\n",
        "    dcl = ((i * (n + 1) / 10))\n",
        "\n",
        "    rDown = math.floor(dcl)\n",
        "    rUp = math.ceil(dcl)\n",
        "    dcml = dcl - rDown\n",
        "\n",
        "    print(\"Original =\", dcl, \"\\nRound down =\", math.floor(dcl), \"\\nRound up =\", math.ceil(dcl), \"\\nDcml =\", dcml)\n",
        "\n",
        "    if isfloat(dcl) == True:\n",
        "        dclValue = data[rDown - 1] + ((dcml) * (rUp - rDown))\n",
        "    else:\n",
        "        dclValue = data[dcl - 1]\n",
        "    return dclValue\n",
        "\n",
        "def percentile (data, i, q):\n",
        "    pcl = ((i * (n + 1) / 100))\n",
        "\n",
        "    rDown = math.floor(pcl)\n",
        "    rUp = math.ceil(pcl)\n",
        "    dcml = pcl - rDown\n",
        "\n",
        "    print(\"Original =\", pcl, \"\\nRound down =\", math.floor(pcl), \"\\nRound up =\", math.ceil(pcl), \"\\nDcml =\", dcml)\n",
        "\n",
        "    if isfloat(pcl) == True:\n",
        "        pclValue = data[rDown - 1] + ((dcml) * (rUp - rDown))\n",
        "    else:\n",
        "        pclValue = data[pcl - 1]\n",
        "    return pclValue\n",
        "\n",
        "def stErSkew (data, n):\n",
        "    num = 6 * n * (n - 1)\n",
        "    den = (n - 2) * (n + 1) * (n + 3)\n",
        "    stErrorSkew = (num / den) ** (1/2)\n",
        "    return stErrorSkew\n",
        "\n",
        "def stErKurt (data, stErrorSkew, n):\n",
        "    num = (n ** 2) - 1\n",
        "    den = (n - 3) * (n + 5)\n",
        "    stErrorKurtosis = 2 * stErrorSkew * ((num / den) ** (1/2))\n",
        "    return stErrorKurtosis"
      ],
      "metadata": {
        "id": "NawxHc5wEBNu"
      },
      "execution_count": null,
      "outputs": []
    },
    {
      "cell_type": "code",
      "source": [
        "data = [88, 45, 53, 86, 33, 86, 85, 30, 89, 53, 41, 96, 56, 38, 62,\n",
        "        71, 51, 86, 68, 29, 28, 47, 33, 37, 25, 36, 33, 94, 73, 46,\n",
        "        42, 34, 79, 72, 88, 99, 82, 62, 57, 42, 28, 55, 67, 62, 60,\n",
        "        96, 61, 57, 75, 93, 34, 75, 53, 32, 28, 73, 51, 69, 91, 35]"
      ],
      "metadata": {
        "id": "zT_YY1WyED5c"
      },
      "execution_count": null,
      "outputs": []
    },
    {
      "cell_type": "code",
      "source": [
        "n = len(data)\n",
        "\n",
        "print(\"The dataset is:\")\n",
        "#data"
      ],
      "metadata": {
        "colab": {
          "base_uri": "https://localhost:8080/"
        },
        "id": "xI0g7NDOEIFg",
        "outputId": "d63c4f9f-835b-4127-e291-bf179e0aa8d9"
      },
      "execution_count": null,
      "outputs": [
        {
          "output_type": "stream",
          "name": "stdout",
          "text": [
            "The dataset is:\n"
          ]
        }
      ]
    },
    {
      "cell_type": "code",
      "source": [
        "data.sort()\n",
        "\n",
        "print(\"The dataset sorted is:\")\n",
        "#data"
      ],
      "metadata": {
        "colab": {
          "base_uri": "https://localhost:8080/"
        },
        "id": "By_naTsWEo2M",
        "outputId": "4fc964e1-14d6-48ca-e70f-151fe155fe90"
      },
      "execution_count": null,
      "outputs": [
        {
          "output_type": "stream",
          "name": "stdout",
          "text": [
            "The dataset sorted is:\n"
          ]
        }
      ]
    },
    {
      "cell_type": "code",
      "source": [
        "from numpy.core.fromnumeric import std\n",
        "# Preliminaries\n",
        "\n",
        "dataMean = round(numpy.mean(data), 3)\n",
        "dataMedian = round(numpy.median(data), 3)\n",
        "dataMode = stats.mode(data, keepdims = False)\n",
        "dataMode = round(dataMode.mode, 3)\n",
        "dataStDev = round(numpy.std(data), 3)\n",
        "dataVar = round(numpy.var(data), 3)\n",
        "dataSkew = round(skew(data), 3)\n",
        "dataStSk = round(stErSkew(data, n), 3)\n",
        "dataKur = round(kurtosis(data, axis = 0, bias = True), 3)\n",
        "dataStKu = round(stErKurt(data, dataStSk, n), 3)\n",
        "dataMin = round(min(data), 3)\n",
        "dataMax = round(max(data), 3)\n",
        "\n",
        "print(\"Mean:\", dataMean,\n",
        "      \"\\nMedian:\", dataMedian,\n",
        "      \"\\nMode:\", dataMode,\n",
        "      \"\\nStd. Deviation:\", dataStDev,\n",
        "      \"\\nVariance:\", round(dataVar, 3),\n",
        "      \"\\nSkewness:\", round(dataSkew, 3),\n",
        "      \"\\nStd. Error of Skewness:\", round(dataStSk, 3),\n",
        "      \"\\nKurtosis:\", round(dataKur, 3),\n",
        "      \"\\nStd. Error of Kurtosis:\", round(dataStKu, 3),\n",
        "      \"\\nMin:\", dataMin,\n",
        "      \"\\nMax:\", dataMax\n",
        "      )"
      ],
      "metadata": {
        "colab": {
          "base_uri": "https://localhost:8080/"
        },
        "id": "Fukb4uyFEKSG",
        "outputId": "f0b0d900-545a-45d3-b40f-a9dc081ab529"
      },
      "execution_count": null,
      "outputs": [
        {
          "output_type": "stream",
          "name": "stdout",
          "text": [
            "Mean: 59.167 \n",
            "Median: 57.0 \n",
            "Mode: 28 \n",
            "Std. Deviation: 22.025 \n",
            "Variance: 485.106 \n",
            "Skewness: 0.163 \n",
            "Std. Error of Skewness: 0.309 \n",
            "Kurtosis: -1.241 \n",
            "Std. Error of Kurtosis: 0.609 \n",
            "Min: 25 \n",
            "Max: 99\n"
          ]
        }
      ]
    },
    {
      "cell_type": "code",
      "source": [
        "# Q1\n",
        "\n",
        "q1 = quartile(data, 1, n)\n",
        "\n",
        "print(\"The 1st Quartile is:\", q1)"
      ],
      "metadata": {
        "colab": {
          "base_uri": "https://localhost:8080/"
        },
        "id": "_MAIPnnbEMTT",
        "outputId": "b64fce21-ac90-4715-886d-e60375aee381"
      },
      "execution_count": null,
      "outputs": [
        {
          "output_type": "stream",
          "name": "stdout",
          "text": [
            "Original = 15.25 \n",
            "Round down = 15 \n",
            "Round up = 16 \n",
            "Dcml = 0.25\n",
            "The 1st Quartile is: 37.25\n"
          ]
        }
      ]
    },
    {
      "cell_type": "code",
      "source": [
        "# Q2\n",
        "\n",
        "q2 = quartile(data, 2, n)\n",
        "\n",
        "print(\"The 2nd Quartile is:\", q2)"
      ],
      "metadata": {
        "colab": {
          "base_uri": "https://localhost:8080/"
        },
        "id": "LK8NC1BPEMrb",
        "outputId": "ef39ed7d-17a9-42f6-fbd3-7a328b57b6b7"
      },
      "execution_count": null,
      "outputs": [
        {
          "output_type": "stream",
          "name": "stdout",
          "text": [
            "Original = 30.5 \n",
            "Round down = 30 \n",
            "Round up = 31 \n",
            "Dcml = 0.5\n",
            "The 2nd Quartile is: 57.5\n"
          ]
        }
      ]
    },
    {
      "cell_type": "code",
      "source": [
        "# Q3\n",
        "\n",
        "q3 = quartile(data, 3, n)\n",
        "\n",
        "print(\"The 3rd Quartile is:\", q3)"
      ],
      "metadata": {
        "colab": {
          "base_uri": "https://localhost:8080/"
        },
        "id": "XJqndC4uEM0k",
        "outputId": "2658f014-1cf3-496e-cf2b-fcc5d55b6917"
      },
      "execution_count": null,
      "outputs": [
        {
          "output_type": "stream",
          "name": "stdout",
          "text": [
            "Original = 45.75 \n",
            "Round down = 45 \n",
            "Round up = 46 \n",
            "Dcml = 0.75\n",
            "The 3rd Quartile is: 75.75\n"
          ]
        }
      ]
    },
    {
      "cell_type": "code",
      "source": [
        "# D9\n",
        "\n",
        "d9 = decile(data, 9, n)\n",
        "\n",
        "print(\"The 9th Decile is:\", d9)"
      ],
      "metadata": {
        "colab": {
          "base_uri": "https://localhost:8080/"
        },
        "id": "4Yt4FeYkEM5D",
        "outputId": "c3b05427-5a9e-4c95-95f0-2e1b2ffca73e"
      },
      "execution_count": null,
      "outputs": [
        {
          "output_type": "stream",
          "name": "stdout",
          "text": [
            "Original = 54.9 \n",
            "Round down = 54 \n",
            "Round up = 55 \n",
            "Dcml = 0.8999999999999986\n",
            "The 9th Decile is: 89.9\n"
          ]
        }
      ]
    },
    {
      "cell_type": "code",
      "source": [
        "# P95\n",
        "\n",
        "p95 = percentile(data, 95, n)\n",
        "\n",
        "print(\"The 95th Percentile is:\", p95)"
      ],
      "metadata": {
        "colab": {
          "base_uri": "https://localhost:8080/"
        },
        "id": "RpTf_CmAEM96",
        "outputId": "10d3fb6e-1158-4d21-9518-7deab9aa904a"
      },
      "execution_count": null,
      "outputs": [
        {
          "output_type": "stream",
          "name": "stdout",
          "text": [
            "Original = 57.95 \n",
            "Round down = 57 \n",
            "Round up = 58 \n",
            "Dcml = 0.9500000000000028\n",
            "The 95th Percentile is: 94.95\n"
          ]
        }
      ]
    },
    {
      "cell_type": "code",
      "source": [
        "table = [[\"\" , \"Score\"],\n",
        "         [\"Valid\", n],\n",
        "         [\"Mode\", dataMode],\n",
        "         [\"Median\", dataMedian],\n",
        "         [\"Mean\", dataMean],\n",
        "         [\"Std. Deviation\", dataStDev],\n",
        "         [\"Variance\", dataVar],\n",
        "         [\"Skewness\", dataSkew],\n",
        "         [\"Std. Error for Skewness\", dataStSk],\n",
        "         [\"Kurtosis\", dataKur],\n",
        "         [\"Std. Error for Kurtosis\", dataStKu],\n",
        "         [\"Minimun\", dataMin],\n",
        "         [\"Maximum\", dataMax],\n",
        "         [\"25th percentile (1st quartile)\", q1],\n",
        "         [\"50th percentile (2nd quartile)\", q2],\n",
        "         [\"75th percentile (3rd quartile)\", q3],\n",
        "         [\"90th percentile (9th decile)\", d9],\n",
        "         [\"95th percentile\", p95]\n",
        "        ]"
      ],
      "metadata": {
        "id": "jJvMLMqaJulC"
      },
      "execution_count": null,
      "outputs": []
    },
    {
      "cell_type": "code",
      "source": [
        "df = pd.DataFrame(table)\n",
        "df"
      ],
      "metadata": {
        "colab": {
          "base_uri": "https://localhost:8080/",
          "height": 614
        },
        "id": "M54A9czNJijs",
        "outputId": "57f396c6-b55d-4405-f6b7-cbea44d3a10f"
      },
      "execution_count": 118,
      "outputs": [
        {
          "output_type": "execute_result",
          "data": {
            "text/plain": [
              "                                 0        1\n",
              "0                                     Score\n",
              "1                            Valid       60\n",
              "2                             Mode       28\n",
              "3                           Median     57.0\n",
              "4                             Mean   59.167\n",
              "5                   Std. Deviation   22.025\n",
              "6                         Variance  485.106\n",
              "7                         Skewness    0.163\n",
              "8          Std. Error for Skewness    0.309\n",
              "9                         Kurtosis   -1.241\n",
              "10         Std. Error for Kurtosis    0.609\n",
              "11                         Minimun       25\n",
              "12                         Maximum       99\n",
              "13  25th percentile (1st quartile)    37.25\n",
              "14  50th percentile (2nd quartile)     57.5\n",
              "15  75th percentile (3rd quartile)    75.75\n",
              "16    90th percentile (9th decile)     89.9\n",
              "17                 95th percentile    94.95"
            ],
            "text/html": [
              "\n",
              "  <div id=\"df-39e037da-b4be-4809-b88a-bf6ee66f3198\" class=\"colab-df-container\">\n",
              "    <div>\n",
              "<style scoped>\n",
              "    .dataframe tbody tr th:only-of-type {\n",
              "        vertical-align: middle;\n",
              "    }\n",
              "\n",
              "    .dataframe tbody tr th {\n",
              "        vertical-align: top;\n",
              "    }\n",
              "\n",
              "    .dataframe thead th {\n",
              "        text-align: right;\n",
              "    }\n",
              "</style>\n",
              "<table border=\"1\" class=\"dataframe\">\n",
              "  <thead>\n",
              "    <tr style=\"text-align: right;\">\n",
              "      <th></th>\n",
              "      <th>0</th>\n",
              "      <th>1</th>\n",
              "    </tr>\n",
              "  </thead>\n",
              "  <tbody>\n",
              "    <tr>\n",
              "      <th>0</th>\n",
              "      <td></td>\n",
              "      <td>Score</td>\n",
              "    </tr>\n",
              "    <tr>\n",
              "      <th>1</th>\n",
              "      <td>Valid</td>\n",
              "      <td>60</td>\n",
              "    </tr>\n",
              "    <tr>\n",
              "      <th>2</th>\n",
              "      <td>Mode</td>\n",
              "      <td>28</td>\n",
              "    </tr>\n",
              "    <tr>\n",
              "      <th>3</th>\n",
              "      <td>Median</td>\n",
              "      <td>57.0</td>\n",
              "    </tr>\n",
              "    <tr>\n",
              "      <th>4</th>\n",
              "      <td>Mean</td>\n",
              "      <td>59.167</td>\n",
              "    </tr>\n",
              "    <tr>\n",
              "      <th>5</th>\n",
              "      <td>Std. Deviation</td>\n",
              "      <td>22.025</td>\n",
              "    </tr>\n",
              "    <tr>\n",
              "      <th>6</th>\n",
              "      <td>Variance</td>\n",
              "      <td>485.106</td>\n",
              "    </tr>\n",
              "    <tr>\n",
              "      <th>7</th>\n",
              "      <td>Skewness</td>\n",
              "      <td>0.163</td>\n",
              "    </tr>\n",
              "    <tr>\n",
              "      <th>8</th>\n",
              "      <td>Std. Error for Skewness</td>\n",
              "      <td>0.309</td>\n",
              "    </tr>\n",
              "    <tr>\n",
              "      <th>9</th>\n",
              "      <td>Kurtosis</td>\n",
              "      <td>-1.241</td>\n",
              "    </tr>\n",
              "    <tr>\n",
              "      <th>10</th>\n",
              "      <td>Std. Error for Kurtosis</td>\n",
              "      <td>0.609</td>\n",
              "    </tr>\n",
              "    <tr>\n",
              "      <th>11</th>\n",
              "      <td>Minimun</td>\n",
              "      <td>25</td>\n",
              "    </tr>\n",
              "    <tr>\n",
              "      <th>12</th>\n",
              "      <td>Maximum</td>\n",
              "      <td>99</td>\n",
              "    </tr>\n",
              "    <tr>\n",
              "      <th>13</th>\n",
              "      <td>25th percentile (1st quartile)</td>\n",
              "      <td>37.25</td>\n",
              "    </tr>\n",
              "    <tr>\n",
              "      <th>14</th>\n",
              "      <td>50th percentile (2nd quartile)</td>\n",
              "      <td>57.5</td>\n",
              "    </tr>\n",
              "    <tr>\n",
              "      <th>15</th>\n",
              "      <td>75th percentile (3rd quartile)</td>\n",
              "      <td>75.75</td>\n",
              "    </tr>\n",
              "    <tr>\n",
              "      <th>16</th>\n",
              "      <td>90th percentile (9th decile)</td>\n",
              "      <td>89.9</td>\n",
              "    </tr>\n",
              "    <tr>\n",
              "      <th>17</th>\n",
              "      <td>95th percentile</td>\n",
              "      <td>94.95</td>\n",
              "    </tr>\n",
              "  </tbody>\n",
              "</table>\n",
              "</div>\n",
              "    <div class=\"colab-df-buttons\">\n",
              "\n",
              "  <div class=\"colab-df-container\">\n",
              "    <button class=\"colab-df-convert\" onclick=\"convertToInteractive('df-39e037da-b4be-4809-b88a-bf6ee66f3198')\"\n",
              "            title=\"Convert this dataframe to an interactive table.\"\n",
              "            style=\"display:none;\">\n",
              "\n",
              "  <svg xmlns=\"http://www.w3.org/2000/svg\" height=\"24px\" viewBox=\"0 -960 960 960\">\n",
              "    <path d=\"M120-120v-720h720v720H120Zm60-500h600v-160H180v160Zm220 220h160v-160H400v160Zm0 220h160v-160H400v160ZM180-400h160v-160H180v160Zm440 0h160v-160H620v160ZM180-180h160v-160H180v160Zm440 0h160v-160H620v160Z\"/>\n",
              "  </svg>\n",
              "    </button>\n",
              "\n",
              "  <style>\n",
              "    .colab-df-container {\n",
              "      display:flex;\n",
              "      gap: 12px;\n",
              "    }\n",
              "\n",
              "    .colab-df-convert {\n",
              "      background-color: #E8F0FE;\n",
              "      border: none;\n",
              "      border-radius: 50%;\n",
              "      cursor: pointer;\n",
              "      display: none;\n",
              "      fill: #1967D2;\n",
              "      height: 32px;\n",
              "      padding: 0 0 0 0;\n",
              "      width: 32px;\n",
              "    }\n",
              "\n",
              "    .colab-df-convert:hover {\n",
              "      background-color: #E2EBFA;\n",
              "      box-shadow: 0px 1px 2px rgba(60, 64, 67, 0.3), 0px 1px 3px 1px rgba(60, 64, 67, 0.15);\n",
              "      fill: #174EA6;\n",
              "    }\n",
              "\n",
              "    .colab-df-buttons div {\n",
              "      margin-bottom: 4px;\n",
              "    }\n",
              "\n",
              "    [theme=dark] .colab-df-convert {\n",
              "      background-color: #3B4455;\n",
              "      fill: #D2E3FC;\n",
              "    }\n",
              "\n",
              "    [theme=dark] .colab-df-convert:hover {\n",
              "      background-color: #434B5C;\n",
              "      box-shadow: 0px 1px 3px 1px rgba(0, 0, 0, 0.15);\n",
              "      filter: drop-shadow(0px 1px 2px rgba(0, 0, 0, 0.3));\n",
              "      fill: #FFFFFF;\n",
              "    }\n",
              "  </style>\n",
              "\n",
              "    <script>\n",
              "      const buttonEl =\n",
              "        document.querySelector('#df-39e037da-b4be-4809-b88a-bf6ee66f3198 button.colab-df-convert');\n",
              "      buttonEl.style.display =\n",
              "        google.colab.kernel.accessAllowed ? 'block' : 'none';\n",
              "\n",
              "      async function convertToInteractive(key) {\n",
              "        const element = document.querySelector('#df-39e037da-b4be-4809-b88a-bf6ee66f3198');\n",
              "        const dataTable =\n",
              "          await google.colab.kernel.invokeFunction('convertToInteractive',\n",
              "                                                    [key], {});\n",
              "        if (!dataTable) return;\n",
              "\n",
              "        const docLinkHtml = 'Like what you see? Visit the ' +\n",
              "          '<a target=\"_blank\" href=https://colab.research.google.com/notebooks/data_table.ipynb>data table notebook</a>'\n",
              "          + ' to learn more about interactive tables.';\n",
              "        element.innerHTML = '';\n",
              "        dataTable['output_type'] = 'display_data';\n",
              "        await google.colab.output.renderOutput(dataTable, element);\n",
              "        const docLink = document.createElement('div');\n",
              "        docLink.innerHTML = docLinkHtml;\n",
              "        element.appendChild(docLink);\n",
              "      }\n",
              "    </script>\n",
              "  </div>\n",
              "\n",
              "\n",
              "<div id=\"df-6aa0bba7-94f1-4c3c-b33a-b7122f92d664\">\n",
              "  <button class=\"colab-df-quickchart\" onclick=\"quickchart('df-6aa0bba7-94f1-4c3c-b33a-b7122f92d664')\"\n",
              "            title=\"Suggest charts.\"\n",
              "            style=\"display:none;\">\n",
              "\n",
              "<svg xmlns=\"http://www.w3.org/2000/svg\" height=\"24px\"viewBox=\"0 0 24 24\"\n",
              "     width=\"24px\">\n",
              "    <g>\n",
              "        <path d=\"M19 3H5c-1.1 0-2 .9-2 2v14c0 1.1.9 2 2 2h14c1.1 0 2-.9 2-2V5c0-1.1-.9-2-2-2zM9 17H7v-7h2v7zm4 0h-2V7h2v10zm4 0h-2v-4h2v4z\"/>\n",
              "    </g>\n",
              "</svg>\n",
              "  </button>\n",
              "\n",
              "<style>\n",
              "  .colab-df-quickchart {\n",
              "      --bg-color: #E8F0FE;\n",
              "      --fill-color: #1967D2;\n",
              "      --hover-bg-color: #E2EBFA;\n",
              "      --hover-fill-color: #174EA6;\n",
              "      --disabled-fill-color: #AAA;\n",
              "      --disabled-bg-color: #DDD;\n",
              "  }\n",
              "\n",
              "  [theme=dark] .colab-df-quickchart {\n",
              "      --bg-color: #3B4455;\n",
              "      --fill-color: #D2E3FC;\n",
              "      --hover-bg-color: #434B5C;\n",
              "      --hover-fill-color: #FFFFFF;\n",
              "      --disabled-bg-color: #3B4455;\n",
              "      --disabled-fill-color: #666;\n",
              "  }\n",
              "\n",
              "  .colab-df-quickchart {\n",
              "    background-color: var(--bg-color);\n",
              "    border: none;\n",
              "    border-radius: 50%;\n",
              "    cursor: pointer;\n",
              "    display: none;\n",
              "    fill: var(--fill-color);\n",
              "    height: 32px;\n",
              "    padding: 0;\n",
              "    width: 32px;\n",
              "  }\n",
              "\n",
              "  .colab-df-quickchart:hover {\n",
              "    background-color: var(--hover-bg-color);\n",
              "    box-shadow: 0 1px 2px rgba(60, 64, 67, 0.3), 0 1px 3px 1px rgba(60, 64, 67, 0.15);\n",
              "    fill: var(--button-hover-fill-color);\n",
              "  }\n",
              "\n",
              "  .colab-df-quickchart-complete:disabled,\n",
              "  .colab-df-quickchart-complete:disabled:hover {\n",
              "    background-color: var(--disabled-bg-color);\n",
              "    fill: var(--disabled-fill-color);\n",
              "    box-shadow: none;\n",
              "  }\n",
              "\n",
              "  .colab-df-spinner {\n",
              "    border: 2px solid var(--fill-color);\n",
              "    border-color: transparent;\n",
              "    border-bottom-color: var(--fill-color);\n",
              "    animation:\n",
              "      spin 1s steps(1) infinite;\n",
              "  }\n",
              "\n",
              "  @keyframes spin {\n",
              "    0% {\n",
              "      border-color: transparent;\n",
              "      border-bottom-color: var(--fill-color);\n",
              "      border-left-color: var(--fill-color);\n",
              "    }\n",
              "    20% {\n",
              "      border-color: transparent;\n",
              "      border-left-color: var(--fill-color);\n",
              "      border-top-color: var(--fill-color);\n",
              "    }\n",
              "    30% {\n",
              "      border-color: transparent;\n",
              "      border-left-color: var(--fill-color);\n",
              "      border-top-color: var(--fill-color);\n",
              "      border-right-color: var(--fill-color);\n",
              "    }\n",
              "    40% {\n",
              "      border-color: transparent;\n",
              "      border-right-color: var(--fill-color);\n",
              "      border-top-color: var(--fill-color);\n",
              "    }\n",
              "    60% {\n",
              "      border-color: transparent;\n",
              "      border-right-color: var(--fill-color);\n",
              "    }\n",
              "    80% {\n",
              "      border-color: transparent;\n",
              "      border-right-color: var(--fill-color);\n",
              "      border-bottom-color: var(--fill-color);\n",
              "    }\n",
              "    90% {\n",
              "      border-color: transparent;\n",
              "      border-bottom-color: var(--fill-color);\n",
              "    }\n",
              "  }\n",
              "</style>\n",
              "\n",
              "  <script>\n",
              "    async function quickchart(key) {\n",
              "      const quickchartButtonEl =\n",
              "        document.querySelector('#' + key + ' button');\n",
              "      quickchartButtonEl.disabled = true;  // To prevent multiple clicks.\n",
              "      quickchartButtonEl.classList.add('colab-df-spinner');\n",
              "      try {\n",
              "        const charts = await google.colab.kernel.invokeFunction(\n",
              "            'suggestCharts', [key], {});\n",
              "      } catch (error) {\n",
              "        console.error('Error during call to suggestCharts:', error);\n",
              "      }\n",
              "      quickchartButtonEl.classList.remove('colab-df-spinner');\n",
              "      quickchartButtonEl.classList.add('colab-df-quickchart-complete');\n",
              "    }\n",
              "    (() => {\n",
              "      let quickchartButtonEl =\n",
              "        document.querySelector('#df-6aa0bba7-94f1-4c3c-b33a-b7122f92d664 button');\n",
              "      quickchartButtonEl.style.display =\n",
              "        google.colab.kernel.accessAllowed ? 'block' : 'none';\n",
              "    })();\n",
              "  </script>\n",
              "</div>\n",
              "    </div>\n",
              "  </div>\n"
            ]
          },
          "metadata": {},
          "execution_count": 118
        }
      ]
    },
    {
      "cell_type": "code",
      "source": [],
      "metadata": {
        "id": "JUNFiNQNeUeM"
      },
      "execution_count": null,
      "outputs": []
    }
  ]
}