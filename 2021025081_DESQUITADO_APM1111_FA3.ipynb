{
  "nbformat": 4,
  "nbformat_minor": 0,
  "metadata": {
    "colab": {
      "provenance": [],
      "authorship_tag": "ABX9TyPWnkArIIJutYtG8ycqiGjd",
      "include_colab_link": true
    },
    "kernelspec": {
      "name": "python3",
      "display_name": "Python 3"
    },
    "language_info": {
      "name": "python"
    }
  },
  "cells": [
    {
      "cell_type": "markdown",
      "metadata": {
        "id": "view-in-github",
        "colab_type": "text"
      },
      "source": [
        "<a href=\"https://colab.research.google.com/github/ydesquitado/APM1111/blob/main/2021025081_DESQUITADO_APM1111_FA1.ipynb\" target=\"_parent\"><img src=\"https://colab.research.google.com/assets/colab-badge.svg\" alt=\"Open In Colab\"/></a>"
      ]
    },
    {
      "cell_type": "code",
      "execution_count": 96,
      "metadata": {
        "id": "Lm_EoWFkDdSc"
      },
      "outputs": [],
      "source": [
        "import math\n",
        "import numpy\n",
        "from scipy import stats\n",
        "from scipy.stats import skew\n",
        "from scipy.stats import kurtosis\n",
        "from tabulate import tabulate\n",
        "import pandas as pd"
      ]
    },
    {
      "cell_type": "code",
      "source": [
        "def isfloat(x):\n",
        "    try:\n",
        "        float(x)\n",
        "        isFloat = True\n",
        "    except:\n",
        "        isFloat = False\n",
        "    return isFloat\n",
        "\n",
        "def quartile (data, i, q):\n",
        "    qtl = ((i * (n + 1) / 4))\n",
        "\n",
        "    rDown = math.floor(qtl)\n",
        "    rUp = math.ceil(qtl)\n",
        "    dcml = qtl - rDown\n",
        "\n",
        "    print(\"Original =\", qtl, \"\\nRound down =\", math.floor(qtl), \"\\nRound up =\", math.ceil(qtl), \"\\nDcml =\", dcml)\n",
        "\n",
        "    if isfloat(qtl) == True:\n",
        "        qtlValue = data[rDown - 1] + ((dcml) * (rUp - rDown))\n",
        "    else:\n",
        "        qtlValue = data[qtl - 1]\n",
        "    return qtlValue\n",
        "\n",
        "def decile (data, i, q):\n",
        "    dcl = ((i * (n + 1) / 10))\n",
        "\n",
        "    rDown = math.floor(dcl)\n",
        "    rUp = math.ceil(dcl)\n",
        "    dcml = dcl - rDown\n",
        "\n",
        "    print(\"Original =\", dcl, \"\\nRound down =\", math.floor(dcl), \"\\nRound up =\", math.ceil(dcl), \"\\nDcml =\", dcml)\n",
        "\n",
        "    if isfloat(dcl) == True:\n",
        "        dclValue = data[rDown - 1] + ((dcml) * (rUp - rDown))\n",
        "    else:\n",
        "        dclValue = data[dcl - 1]\n",
        "    return dclValue\n",
        "\n",
        "def percentile (data, i, q):\n",
        "    pcl = ((i * (n + 1) / 100))\n",
        "\n",
        "    rDown = math.floor(pcl)\n",
        "    rUp = math.ceil(pcl)\n",
        "    dcml = pcl - rDown\n",
        "\n",
        "    print(\"Original =\", pcl, \"\\nRound down =\", math.floor(pcl), \"\\nRound up =\", math.ceil(pcl), \"\\nDcml =\", dcml)\n",
        "\n",
        "    if isfloat(pcl) == True:\n",
        "        pclValue = data[rDown - 1] + ((dcml) * (rUp - rDown))\n",
        "    else:\n",
        "        pclValue = data[pcl - 1]\n",
        "    return pclValue\n",
        "\n",
        "def stErSkew (data, n):\n",
        "    num = 6 * n * (n - 1)\n",
        "    den = (n - 2) * (n + 1) * (n + 3)\n",
        "    stErrorSkew = (num / den) ** (1/2)\n",
        "    return stErrorSkew\n",
        "\n",
        "def stErKurt (data, stErrorSkew, n):\n",
        "    num = (n ** 2) - 1\n",
        "    den = (n - 3) * (n + 5)\n",
        "    stErrorKurtosis = 2 * stErrorSkew * ((num / den) ** (1/2))\n",
        "    return stErrorKurtosis"
      ],
      "metadata": {
        "id": "NawxHc5wEBNu"
      },
      "execution_count": 97,
      "outputs": []
    },
    {
      "cell_type": "code",
      "source": [
        "data = [88, 45, 53, 86, 33, 86, 85, 30, 89, 53, 41, 96, 56, 38, 62,\n",
        "        71, 51, 86, 68, 29, 28, 47, 33, 37, 25, 36, 33, 94, 73, 46,\n",
        "        42, 34, 79, 72, 88, 99, 82, 62, 57, 42, 28, 55, 67, 62, 60,\n",
        "        96, 61, 57, 75, 93, 34, 75, 53, 32, 28, 73, 51, 69, 91, 35]"
      ],
      "metadata": {
        "id": "zT_YY1WyED5c"
      },
      "execution_count": 98,
      "outputs": []
    },
    {
      "cell_type": "code",
      "source": [
        "n = len(data)\n",
        "\n",
        "print(\"The dataset is:\")\n",
        "#data"
      ],
      "metadata": {
        "colab": {
          "base_uri": "https://localhost:8080/"
        },
        "id": "xI0g7NDOEIFg",
        "outputId": "d63c4f9f-835b-4127-e291-bf179e0aa8d9"
      },
      "execution_count": 99,
      "outputs": [
        {
          "output_type": "stream",
          "name": "stdout",
          "text": [
            "The dataset is:\n"
          ]
        }
      ]
    },
    {
      "cell_type": "code",
      "source": [
        "data.sort()\n",
        "\n",
        "print(\"The dataset sorted is:\")\n",
        "#data"
      ],
      "metadata": {
        "colab": {
          "base_uri": "https://localhost:8080/"
        },
        "id": "By_naTsWEo2M",
        "outputId": "4fc964e1-14d6-48ca-e70f-151fe155fe90"
      },
      "execution_count": 100,
      "outputs": [
        {
          "output_type": "stream",
          "name": "stdout",
          "text": [
            "The dataset sorted is:\n"
          ]
        }
      ]
    },
    {
      "cell_type": "code",
      "source": [
        "from numpy.core.fromnumeric import std\n",
        "# Preliminaries\n",
        "\n",
        "dataMean = round(numpy.mean(data), 3)\n",
        "dataMedian = round(numpy.median(data), 3)\n",
        "dataMode = stats.mode(data, keepdims = False)\n",
        "dataMode = round(dataMode.mode, 3)\n",
        "dataStDev = round(numpy.std(data), 3)\n",
        "dataVar = round(numpy.var(data), 3)\n",
        "dataSkew = round(skew(data), 3)\n",
        "dataStSk = round(stErSkew(data, n), 3)\n",
        "dataKur = round(kurtosis(data, axis = 0, bias = True), 3)\n",
        "dataStKu = round(stErKurt(data, dataStSk, n), 3)\n",
        "dataMin = round(min(data), 3)\n",
        "dataMax = round(max(data), 3)\n",
        "\n",
        "print(\"Mean:\", dataMean,\n",
        "      \"\\nMedian:\", dataMedian,\n",
        "      \"\\nMode:\", dataMode,\n",
        "      \"\\nStd. Deviation:\", dataStDev,\n",
        "      \"\\nVariance:\", round(dataVar, 3),\n",
        "      \"\\nSkewness:\", round(dataSkew, 3),\n",
        "      \"\\nStd. Error of Skewness:\", round(dataStSk, 3),\n",
        "      \"\\nKurtosis:\", round(dataKur, 3),\n",
        "      \"\\nStd. Error of Kurtosis:\", round(dataStKu, 3),\n",
        "      \"\\nMin:\", dataMin,\n",
        "      \"\\nMax:\", dataMax\n",
        "      )"
      ],
      "metadata": {
        "colab": {
          "base_uri": "https://localhost:8080/"
        },
        "id": "Fukb4uyFEKSG",
        "outputId": "f0b0d900-545a-45d3-b40f-a9dc081ab529"
      },
      "execution_count": 101,
      "outputs": [
        {
          "output_type": "stream",
          "name": "stdout",
          "text": [
            "Mean: 59.167 \n",
            "Median: 57.0 \n",
            "Mode: 28 \n",
            "Std. Deviation: 22.025 \n",
            "Variance: 485.106 \n",
            "Skewness: 0.163 \n",
            "Std. Error of Skewness: 0.309 \n",
            "Kurtosis: -1.241 \n",
            "Std. Error of Kurtosis: 0.609 \n",
            "Min: 25 \n",
            "Max: 99\n"
          ]
        }
      ]
    },
    {
      "cell_type": "code",
      "source": [
        "# Q1\n",
        "\n",
        "q1 = quartile(data, 1, n)\n",
        "\n",
        "print(\"The 1st Quartile is:\", q1)"
      ],
      "metadata": {
        "colab": {
          "base_uri": "https://localhost:8080/"
        },
        "id": "_MAIPnnbEMTT",
        "outputId": "b64fce21-ac90-4715-886d-e60375aee381"
      },
      "execution_count": 102,
      "outputs": [
        {
          "output_type": "stream",
          "name": "stdout",
          "text": [
            "Original = 15.25 \n",
            "Round down = 15 \n",
            "Round up = 16 \n",
            "Dcml = 0.25\n",
            "The 1st Quartile is: 37.25\n"
          ]
        }
      ]
    },
    {
      "cell_type": "code",
      "source": [
        "# Q2\n",
        "\n",
        "q2 = quartile(data, 2, n)\n",
        "\n",
        "print(\"The 2nd Quartile is:\", q2)"
      ],
      "metadata": {
        "colab": {
          "base_uri": "https://localhost:8080/"
        },
        "id": "LK8NC1BPEMrb",
        "outputId": "ef39ed7d-17a9-42f6-fbd3-7a328b57b6b7"
      },
      "execution_count": 103,
      "outputs": [
        {
          "output_type": "stream",
          "name": "stdout",
          "text": [
            "Original = 30.5 \n",
            "Round down = 30 \n",
            "Round up = 31 \n",
            "Dcml = 0.5\n",
            "The 2nd Quartile is: 57.5\n"
          ]
        }
      ]
    },
    {
      "cell_type": "code",
      "source": [
        "# Q3\n",
        "\n",
        "q3 = quartile(data, 3, n)\n",
        "\n",
        "print(\"The 3rd Quartile is:\", q3)"
      ],
      "metadata": {
        "colab": {
          "base_uri": "https://localhost:8080/"
        },
        "id": "XJqndC4uEM0k",
        "outputId": "2658f014-1cf3-496e-cf2b-fcc5d55b6917"
      },
      "execution_count": 104,
      "outputs": [
        {
          "output_type": "stream",
          "name": "stdout",
          "text": [
            "Original = 45.75 \n",
            "Round down = 45 \n",
            "Round up = 46 \n",
            "Dcml = 0.75\n",
            "The 3rd Quartile is: 75.75\n"
          ]
        }
      ]
    },
    {
      "cell_type": "code",
      "source": [
        "# D9\n",
        "\n",
        "d9 = decile(data, 9, n)\n",
        "\n",
        "print(\"The 9th Decile is:\", d9)"
      ],
      "metadata": {
        "colab": {
          "base_uri": "https://localhost:8080/"
        },
        "id": "4Yt4FeYkEM5D",
        "outputId": "c3b05427-5a9e-4c95-95f0-2e1b2ffca73e"
      },
      "execution_count": 105,
      "outputs": [
        {
          "output_type": "stream",
          "name": "stdout",
          "text": [
            "Original = 54.9 \n",
            "Round down = 54 \n",
            "Round up = 55 \n",
            "Dcml = 0.8999999999999986\n",
            "The 9th Decile is: 89.9\n"
          ]
        }
      ]
    },
    {
      "cell_type": "code",
      "source": [
        "# P95\n",
        "\n",
        "p95 = percentile(data, 95, n)\n",
        "\n",
        "print(\"The 95th Percentile is:\", p95)"
      ],
      "metadata": {
        "colab": {
          "base_uri": "https://localhost:8080/"
        },
        "id": "RpTf_CmAEM96",
        "outputId": "10d3fb6e-1158-4d21-9518-7deab9aa904a"
      },
      "execution_count": 106,
      "outputs": [
        {
          "output_type": "stream",
          "name": "stdout",
          "text": [
            "Original = 57.95 \n",
            "Round down = 57 \n",
            "Round up = 58 \n",
            "Dcml = 0.9500000000000028\n",
            "The 95th Percentile is: 94.95\n"
          ]
        }
      ]
    },
    {
      "cell_type": "code",
      "source": [
        "table = [[\"\" , \"Score\"],\n",
        "         [\"Valid\", n],\n",
        "         [\"Mode\", dataMode],\n",
        "         [\"Median\", dataMedian],\n",
        "         [\"Mean\", dataMean],\n",
        "         [\"Std. Deviation\", dataStDev],\n",
        "         [\"Variance\", dataVar],\n",
        "         [\"Skewness\", dataSkew],\n",
        "         [\"Std. Error for Skewness\", dataStSk],\n",
        "         [\"Kurtosis\", dataKur],\n",
        "         [\"Std. Error for Kurtosis\", dataStKu],\n",
        "         [\"Minimun\", dataMin],\n",
        "         [\"Maximum\", dataMax],\n",
        "         [\"25th percentile (1st quartile)\", q1],\n",
        "         [\"50th percentile (2nd quartile)\", q2],\n",
        "         [\"75th percentile (3rd quartile)\", q3],\n",
        "         [\"90th percentile (9th decile)\", d9],\n",
        "         [\"95th percentile\", p95]\n",
        "        ]"
      ],
      "metadata": {
        "id": "jJvMLMqaJulC"
      },
      "execution_count": 108,
      "outputs": []
    },
    {
      "cell_type": "code",
      "source": [
        "df = pd.DataFrame(table)\n",
        "print(df)"
      ],
      "metadata": {
        "colab": {
          "base_uri": "https://localhost:8080/"
        },
        "id": "M54A9czNJijs",
        "outputId": "cd7e3317-9546-4650-fa4b-a9271e33a77a"
      },
      "execution_count": 109,
      "outputs": [
        {
          "output_type": "stream",
          "name": "stdout",
          "text": [
            "                                 0        1\n",
            "0                                     Score\n",
            "1                            Valid       60\n",
            "2                             Mode       28\n",
            "3                           Median     57.0\n",
            "4                             Mean   59.167\n",
            "5                   Std. Deviation   22.025\n",
            "6                         Variance  485.106\n",
            "7                         Skewness    0.163\n",
            "8          Std. Error for Skewness    0.309\n",
            "9                         Kurtosis   -1.241\n",
            "10         Std. Error for Kurtosis    0.609\n",
            "11                         Minimun       25\n",
            "12                         Maximum       99\n",
            "13  25th percentile (1st quartile)    37.25\n",
            "14  50th percentile (2nd quartile)     57.5\n",
            "15  75th percentile (3rd quartile)    75.75\n",
            "16    90th percentile (9th decile)     89.9\n",
            "17                 95th percentile    94.95\n"
          ]
        }
      ]
    }
  ]
}
