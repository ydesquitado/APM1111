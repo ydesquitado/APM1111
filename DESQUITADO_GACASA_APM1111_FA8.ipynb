{
  "nbformat": 4,
  "nbformat_minor": 0,
  "metadata": {
    "colab": {
      "provenance": []
    },
    "kernelspec": {
      "name": "python3",
      "display_name": "Python 3"
    },
    "language_info": {
      "name": "python"
    }
  },
  "cells": [
    {
      "cell_type": "code",
      "execution_count": 30,
      "metadata": {
        "colab": {
          "base_uri": "https://localhost:8080/"
        },
        "id": "4gayewjNqlC3",
        "outputId": "628d380e-2022-4b1e-8106-fd5c401e25a5"
      },
      "outputs": [
        {
          "output_type": "stream",
          "name": "stdout",
          "text": [
            "Drive already mounted at /content/drive; to attempt to forcibly remount, call drive.mount(\"/content/drive\", force_remount=True).\n"
          ]
        }
      ],
      "source": [
        "import matplotlib.pyplot as plt\n",
        "import scipy.stats as stats\n",
        "import statistics\n",
        "import pandas as pd\n",
        "from google.colab import drive\n",
        "drive.mount('/content/drive')"
      ]
    },
    {
      "cell_type": "code",
      "source": [
        "df = pd.read_csv(\"/content/drive/MyDrive/Colab Notebooks/PlantGrowth.csv\")"
      ],
      "metadata": {
        "id": "8UVVLHuXrVV8"
      },
      "execution_count": 31,
      "outputs": []
    },
    {
      "cell_type": "code",
      "source": [
        "# Using interquartiles to find outliers\n",
        "\n",
        "for i in ['ctrl', 'trt1', 'trt2']:\n",
        "  quartile = df[df['group'] == i]['weight'].quantile([0.25, 0.75])\n",
        "  iqr = quartile[0.75] - quartile[0.25]\n",
        "\n",
        "  print(\"The IQR for group \\\"%s\\\"\" % i, \"is =\", round(iqr, 4))\n",
        "\n",
        "  highOutlier = round(quartile[0.75] + (1.5 * iqr), 4)\n",
        "  lowOutlier = round(quartile[0.25] - (1.5 * iqr), 4)\n",
        "\n",
        "  print(highOutlier, lowOutlier)\n",
        "\n",
        "  sdf = df[df['group'] == i]['weight']\n",
        "\n",
        "  for j in sdf.index:\n",
        "    sdfValue = sdf[j]\n",
        "\n",
        "    if (sdfValue >= highOutlier or sdfValue <= lowOutlier):\n",
        "      print(\"[\", j + 1, \"]\",sdfValue, \"is an outlier.\")\n",
        "\n",
        "  print()"
      ],
      "metadata": {
        "colab": {
          "base_uri": "https://localhost:8080/"
        },
        "id": "Oe0B8imnrgOD",
        "outputId": "ebc9c723-78ff-45a2-ce46-19959b5104d3"
      },
      "execution_count": 32,
      "outputs": [
        {
          "output_type": "stream",
          "name": "stdout",
          "text": [
            "The IQR for group \"ctrl\" is = 0.7425\n",
            "6.4062 3.4363\n",
            "\n",
            "The IQR for group \"trt1\" is = 0.6625\n",
            "5.8637 3.2138\n",
            "[ 15 ] 5.87 is an outlier.\n",
            "[ 17 ] 6.03 is an outlier.\n",
            "\n",
            "The IQR for group \"trt2\" is = 0.4675\n",
            "6.4362 4.5663\n",
            "\n"
          ]
        }
      ]
    }
  ]
}